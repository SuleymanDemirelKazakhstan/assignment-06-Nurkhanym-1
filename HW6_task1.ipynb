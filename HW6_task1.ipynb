{
 "cells": [
  {
   "cell_type": "code",
   "execution_count": 12,
   "id": "237c5758",
   "metadata": {},
   "outputs": [],
   "source": [
    "import spacy\n",
    "import en_core_web_sm\n",
    "\n",
    "nlp = en_core_web_sm.load()"
   ]
  },
  {
   "cell_type": "code",
   "execution_count": 87,
   "id": "609ebcf0",
   "metadata": {},
   "outputs": [],
   "source": [
    "import pandas as pd\n",
    "text = \"Polls had predicted Bolsonaro's performance to be lower ahead of the first round, but they were, within the margin of error, accurate in the percentage of votes that Lula da Silva could receive. Now, in this final stage of a deeply polarized contest, some of the research institutes that conduct these polls are drawing attention to the choices being made by women voters.\"\n",
    "doc = nlp(text)\n",
    "texts =[]\n",
    "\n",
    "for ent in doc.ents:\n",
    "    texts.append(ent.text)"
   ]
  },
  {
   "cell_type": "code",
   "execution_count": 88,
   "id": "995e3001",
   "metadata": {},
   "outputs": [],
   "source": [
    "for i in range(0,len(texts)):\n",
    "    t = texts[i].replace(' ', '_')\n",
    "    text = text.replace(texts[i], '<a href=\"https://en.wikipedia.org/wiki/'+t +'\">' + texts[i] + '</a>')"
   ]
  },
  {
   "cell_type": "code",
   "execution_count": 89,
   "id": "3a404ce6",
   "metadata": {},
   "outputs": [
    {
     "data": {
      "text/plain": [
       "'Polls had predicted <a href=\"https://en.wikipedia.org/wiki/Bolsonaro\">Bolsonaro</a>\\'s performance to be lower ahead of the <a href=\"https://en.wikipedia.org/wiki/first\">first</a> round, but they were, within the margin of error, accurate in the percentage of votes that <a href=\"https://en.wikipedia.org/wiki/Lula_da_Silva\">Lula da Silva</a> could receive. Now, in this final stage of a deeply polarized contest, some of the research institutes that conduct these polls are drawing attention to the choices being made by women voters.'"
      ]
     },
     "execution_count": 89,
     "metadata": {},
     "output_type": "execute_result"
    }
   ],
   "source": [
    "text"
   ]
  }
 ],
 "metadata": {
  "kernelspec": {
   "display_name": "Python 3 (ipykernel)",
   "language": "python",
   "name": "python3"
  },
  "language_info": {
   "codemirror_mode": {
    "name": "ipython",
    "version": 3
   },
   "file_extension": ".py",
   "mimetype": "text/x-python",
   "name": "python",
   "nbconvert_exporter": "python",
   "pygments_lexer": "ipython3",
   "version": "3.9.12"
  }
 },
 "nbformat": 4,
 "nbformat_minor": 5
}
